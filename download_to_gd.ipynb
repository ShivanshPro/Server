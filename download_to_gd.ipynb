{
  "nbformat": 4,
  "nbformat_minor": 0,
  "metadata": {
    "colab": {
      "provenance": [],
      "authorship_tag": "ABX9TyMzsJJM+qXHVEwuheb/rrhx",
      "include_colab_link": true
    },
    "kernelspec": {
      "name": "python3",
      "display_name": "Python 3"
    },
    "language_info": {
      "name": "python"
    }
  },
  "cells": [
    {
      "cell_type": "markdown",
      "metadata": {
        "id": "view-in-github",
        "colab_type": "text"
      },
      "source": [
        "<a href=\"https://colab.research.google.com/github/ShivanshPro/Server/blob/master/download_to_gd.ipynb\" target=\"_parent\"><img src=\"https://colab.research.google.com/assets/colab-badge.svg\" alt=\"Open In Colab\"/></a>"
      ]
    },
    {
      "cell_type": "code",
      "source": [
        "from google.colab import drive\n",
        "drive.mount('/content/gdrive')"
      ],
      "metadata": {
        "colab": {
          "base_uri": "https://localhost:8080/"
        },
        "id": "ytxvhBhlbQuv",
        "outputId": "946f530c-29ee-4115-c0c3-16709816f234"
      },
      "execution_count": 1,
      "outputs": [
        {
          "output_type": "stream",
          "name": "stdout",
          "text": [
            "Mounted at /content/gdrive\n"
          ]
        }
      ]
    },
    {
      "cell_type": "code",
      "source": [
        "import requests\n",
        "\n",
        "file_url = \"http://92.204.167.189/apollo_io_sorted.csv\"\n",
        "r = requests.get(file_url, stream=True)\n",
        "\n",
        "with open(\"/content/gdrive/My Drive/apollo_io_sorted.csv\", \"wb\") as file:\n",
        "    for block in r.iter_content(chunk_size=1024):\n",
        "        if block:\n",
        "            file.write(block)"
      ],
      "metadata": {
        "id": "0oJEDT0wbySj"
      },
      "execution_count": null,
      "outputs": []
    }
  ]
}